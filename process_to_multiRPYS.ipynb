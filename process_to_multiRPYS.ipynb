{
 "cells": [
  {
   "cell_type": "code",
   "execution_count": null,
   "metadata": {},
   "outputs": [],
   "source": [
    "# 合并wos文件，为在线multi rpys I/O使用\n",
    "# https://www.leydesdorff.net/comins/rpys/index.html\n",
    "# 该页面不支持多个txt文件上传，因此需要将多个txt合并为一个。"
   ]
  },
  {
   "cell_type": "code",
   "execution_count": 2,
   "metadata": {},
   "outputs": [],
   "source": [
    "import os\n",
    "import glob\n",
    "base_dir=\"D:\\\\hqh_sci_cailiao\\\\NAFLD\\\\wos 20240215\\\\\""
   ]
  },
  {
   "cell_type": "code",
   "execution_count": 8,
   "metadata": {},
   "outputs": [],
   "source": [
    "file_names=[]#待处理的文件名列表\n",
    "for file_name in glob.glob(base_dir + 'download_*'):\n",
    "    file_names.append(file_name)\n",
    "# 定义源文件列表，假设都在同一目录下\n",
    "source_files = file_names  # 更改为你实际的文件名列表\n",
    "output_file = base_dir+'combined.txt'  # 输出合并后的文件名\n",
    "\n",
    "# 打开输出文件并写入第一个文件的全部内容\n",
    "with open(output_file, 'w', encoding='utf-8') as outfile:\n",
    "    with open(source_files[0], 'r') as first_file:\n",
    "        outfile.write(first_file.read())\n",
    "\n",
    "# 遍历剩余文件，跳过前两行并添加空行\n",
    "with open(output_file, 'w', encoding='utf-8') as outfile:\n",
    "    for file in source_files[1:]:\n",
    "        with open(file, 'r', encoding='utf-8') as infile:\n",
    "            lines = infile.readlines()  # 读取文件所有行\n",
    "            # 跳过前两行\n",
    "            #for i in range(2):\n",
    "            #next(lines)\n",
    "            # 写入剩余行并添加一个空行\n",
    "            outfile.writelines(lines[2:])\n",
    "            outfile.write('\\n')  # 添加一个空白行作为分隔\n",
    "\n",
    "# 如果一切正常，现在output_file应当包含了合并且处理过的所有文件内容"
   ]
  },
  {
   "cell_type": "code",
   "execution_count": 7,
   "metadata": {},
   "outputs": [
    {
     "data": {
      "text/plain": [
       "['D:\\\\hqh_sci_cailiao\\\\NAFLD\\\\wos 20240215\\\\download_1-24_1992-2003.txt',\n",
       " 'D:\\\\hqh_sci_cailiao\\\\NAFLD\\\\wos 20240215\\\\download_1-500.txt',\n",
       " 'D:\\\\hqh_sci_cailiao\\\\NAFLD\\\\wos 20240215\\\\download_1001-1500.txt',\n",
       " 'D:\\\\hqh_sci_cailiao\\\\NAFLD\\\\wos 20240215\\\\download_1501-2000.txt',\n",
       " 'D:\\\\hqh_sci_cailiao\\\\NAFLD\\\\wos 20240215\\\\download_2001-2500.txt',\n",
       " 'D:\\\\hqh_sci_cailiao\\\\NAFLD\\\\wos 20240215\\\\download_2501-2969.txt',\n",
       " 'D:\\\\hqh_sci_cailiao\\\\NAFLD\\\\wos 20240215\\\\download_501-1000.txt']"
      ]
     },
     "execution_count": 7,
     "metadata": {},
     "output_type": "execute_result"
    }
   ],
   "source": [
    "file_names"
   ]
  },
  {
   "cell_type": "code",
   "execution_count": null,
   "metadata": {},
   "outputs": [],
   "source": []
  }
 ],
 "metadata": {
  "kernelspec": {
   "display_name": "Python 3 (ipykernel)",
   "language": "python",
   "name": "python3"
  },
  "language_info": {
   "codemirror_mode": {
    "name": "ipython",
    "version": 3
   },
   "file_extension": ".py",
   "mimetype": "text/x-python",
   "name": "python",
   "nbconvert_exporter": "python",
   "pygments_lexer": "ipython3",
   "version": "3.11.7"
  }
 },
 "nbformat": 4,
 "nbformat_minor": 4
}
