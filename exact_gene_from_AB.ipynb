{
 "cells": [
  {
   "cell_type": "code",
   "execution_count": 2,
   "metadata": {},
   "outputs": [],
   "source": [
    "#使用flashtext技术，从摘要里提取gene名，并分号分隔的形式，添加genes列保存到excel中\n",
    "from flashtext import KeywordProcessor\n",
    "import pandas as pd"
   ]
  },
  {
   "cell_type": "code",
   "execution_count": 3,
   "metadata": {},
   "outputs": [],
   "source": [
    "kp = KeywordProcessor()\n",
    "with open('D:\\\\hqh_sci_cailiao\\\\gene\\\\nessary_genes_all.txt', 'r') as file:\n",
    "    for line in file:\n",
    "        kp.add_keyword(keyword=line.strip())"
   ]
  },
  {
   "cell_type": "code",
   "execution_count": 4,
   "metadata": {},
   "outputs": [],
   "source": [
    "def process_row(row):\n",
    "    try:\n",
    "        ab=row['AB']\n",
    "    except BaseException as e:     \n",
    "        return \"\"\n",
    "    genes_list=kp.extract_keywords(str(ab))\n",
    "    return \";\".join( list(set(genes_list)))"
   ]
  },
  {
   "cell_type": "code",
   "execution_count": 5,
   "metadata": {},
   "outputs": [],
   "source": [
    "biblio_df=pd.read_excel(\"D:\\\\hqh_sci_cailiao\\\\20240219_new\\\\biblio_df.xlsx\")"
   ]
  },
  {
   "cell_type": "code",
   "execution_count": 6,
   "metadata": {},
   "outputs": [],
   "source": [
    "biblio_df['genes'] = biblio_df.apply(process_row, axis=1)"
   ]
  },
  {
   "cell_type": "code",
   "execution_count": 7,
   "metadata": {},
   "outputs": [],
   "source": [
    "biblio_df.to_excel(\"d://22.xlsx\")"
   ]
  },
  {
   "cell_type": "code",
   "execution_count": 54,
   "metadata": {},
   "outputs": [
    {
     "name": "stderr",
     "output_type": "stream",
     "text": [
      "<ipython-input-54-c6bf5e7ad3de>:4: SettingWithCopyWarning: \n",
      "A value is trying to be set on a copy of a slice from a DataFrame.\n",
      "Try using .loc[row_indexer,col_indexer] = value instead\n",
      "\n",
      "See the caveats in the documentation: https://pandas.pydata.org/pandas-docs/stable/user_guide/indexing.html#returning-a-view-versus-a-copy\n",
      "  biblio_df_2['genes'] = biblio_df_2['genes'].str.split(';')\n"
     ]
    }
   ],
   "source": [
    "#统计每个基因出现的数量\n",
    "biblio_df_2=biblio_df[[\"genes\"]]\n",
    "# 首先用split()函数按分号分割字符串为列表\n",
    "biblio_df_2['genes'] = biblio_df_2['genes'].str.split(';')\n",
    "\n",
    "# 然后使用explode()函数将每行列表元素扩展为多行\n",
    "biblio_df_2 = biblio_df_2.explode('genes')"
   ]
  },
  {
   "cell_type": "code",
   "execution_count": 55,
   "metadata": {},
   "outputs": [],
   "source": [
    "gene_counts_sorted =biblio_df_2[\"genes\"].value_counts().sort_values(ascending=False)"
   ]
  },
  {
   "cell_type": "code",
   "execution_count": 57,
   "metadata": {},
   "outputs": [],
   "source": [
    "gene_counts_sorted.to_excel(\"D:\\\\hqh_sci_cailiao\\\\20240219_new\\\\articl_gene_count0223-flashtext.xlsx\")"
   ]
  },
  {
   "cell_type": "code",
   "execution_count": null,
   "metadata": {},
   "outputs": [],
   "source": []
  },
  {
   "cell_type": "code",
   "execution_count": null,
   "metadata": {},
   "outputs": [],
   "source": []
  }
 ],
 "metadata": {
  "kernelspec": {
   "display_name": "Python 3 (ipykernel)",
   "language": "python",
   "name": "python3"
  },
  "language_info": {
   "codemirror_mode": {
    "name": "ipython",
    "version": 3
   },
   "file_extension": ".py",
   "mimetype": "text/x-python",
   "name": "python",
   "nbconvert_exporter": "python",
   "pygments_lexer": "ipython3",
   "version": "3.11.7"
  }
 },
 "nbformat": 4,
 "nbformat_minor": 4
}
