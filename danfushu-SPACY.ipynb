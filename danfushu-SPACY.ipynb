{
 "cells": [
  {
   "cell_type": "code",
   "execution_count": 2,
   "metadata": {},
   "outputs": [],
   "source": [
    "import nltk"
   ]
  },
  {
   "cell_type": "code",
   "execution_count": 4,
   "metadata": {},
   "outputs": [
    {
     "data": {
      "text/plain": [
       "FileSystemPathPointer('C:\\\\Users\\\\xuzhe\\\\AppData\\\\Roaming\\\\nltk_data')"
      ]
     },
     "execution_count": 4,
     "metadata": {},
     "output_type": "execute_result"
    }
   ],
   "source": [
    "nltk.find('.')"
   ]
  },
  {
   "cell_type": "code",
   "execution_count": 5,
   "metadata": {},
   "outputs": [
    {
     "name": "stdout",
     "output_type": "stream",
     "text": [
      "mechanism\n",
      "rat livers\n",
      "run\n",
      "take\n",
      "sad\n",
      "fancy\n"
     ]
    }
   ],
   "source": [
    "from nltk.stem import WordNetLemmatizer\n",
    "\n",
    "wnl = WordNetLemmatizer()\n",
    "# lemmatize nouns\n",
    "print(wnl.lemmatize('mechanisms', 'n'))\n",
    "print(wnl.lemmatize('rat livers', 'n'))\n",
    "\n",
    "# lemmatize verbs\n",
    "print(wnl.lemmatize('running', 'v'))\n",
    "print(wnl.lemmatize('taking', 'v'))\n",
    "\n",
    "# lemmatize adjectives\n",
    "print(wnl.lemmatize('saddest', 'a'))\n",
    "print(wnl.lemmatize('fancier', 'a'))"
   ]
  },
  {
   "cell_type": "code",
   "execution_count": 106,
   "metadata": {},
   "outputs": [
    {
     "name": "stdout",
     "output_type": "stream",
     "text": [
      "dog的同义词集为： [Synset('young_person.n.01'), Synset('young.n.09'), Synset('youth.n.03'), Synset('youth.n.04'), Synset('youth.n.05'), Synset('youth.n.06')]\n",
      "dog的各同义词集包含的单词有： [['young_person', 'youth', 'younker', 'spring_chicken'], ['young', 'youth'], ['youth'], ['youth'], ['youth', 'early_days'], ['youth', 'youthfulness', 'juvenility']]\n",
      "dog的各同义词集的具体定义是： ['a young person (especially a young man or boy)', 'young people collectively', 'the time of life between childhood and maturity', 'early maturity; the state of being young or immature or inexperienced', 'an early period of development', 'the freshness and vitality characteristic of a young person']\n",
      "dog的各同义词集的例子是： [[], ['rock music appeals to the young', 'youth everywhere rises in revolt'], [], [], ['during the youth of the project'], []]\n"
     ]
    }
   ],
   "source": [
    "from nltk.corpus import wordnet as wn\n",
    "dog_set = wn.synsets('youth')\n",
    "print('dog的同义词集为：', dog_set)\n",
    "print('dog的各同义词集包含的单词有：',[dog.lemma_names() for dog in dog_set])\n",
    "print('dog的各同义词集的具体定义是：',[dog.definition() for dog in dog_set])\n",
    "print('dog的各同义词集的例子是：',[dog.examples() for dog in dog_set])"
   ]
  },
  {
   "cell_type": "code",
   "execution_count": 111,
   "metadata": {},
   "outputs": [
    {
     "name": "stdout",
     "output_type": "stream",
     "text": [
      "Synset: young_person.n.01\n",
      "  Synonyms: {'youth', 'young_person', 'younker', 'spring_chicken'}\n",
      "  Synonyms: {'youth', 'young_person', 'younker', 'spring_chicken'}\n",
      "  Synonyms: {'youth', 'young_person', 'younker', 'spring_chicken'}\n",
      "  Synonyms: {'youth', 'young_person', 'younker', 'spring_chicken'}\n",
      "Synset: young.n.09\n",
      "  Synonyms: {'young', 'youth'}\n",
      "  Synonyms: {'young', 'youth'}\n",
      "Synset: youth.n.03\n",
      "  Synonyms: {'youth'}\n",
      "Synset: youth.n.04\n",
      "  Synonyms: {'youth'}\n",
      "Synset: youth.n.05\n",
      "  Synonyms: {'early_days', 'youth'}\n",
      "  Synonyms: {'early_days', 'youth'}\n",
      "Synset: youth.n.06\n",
      "  Synonyms: {'youthfulness', 'youth', 'juvenility'}\n",
      "  Synonyms: {'youthfulness', 'youth', 'juvenility'}\n",
      "  Synonyms: {'youthfulness', 'youth', 'juvenility'}\n"
     ]
    }
   ],
   "source": [
    "import nltk\n",
    "from nltk.corpus import wordnet as wn\n",
    "\n",
    "# 输入你想要查询的单词\n",
    "word = \"youth\"\n",
    "\n",
    "# 获取该单词的同义词集（synsets）\n",
    "synsets = wn.synsets(word)\n",
    "\n",
    "# 遍历每个同义词集并打印其同义词（lemmas）\n",
    "for synset in synsets:\n",
    "    print(f\"Synset: {synset.name()}\")\n",
    "    for lemma in synset.lemmas():\n",
    "        #print(f\"  Lemma: {lemma.name()}\")\n",
    "        # 获取同义词的同义词集内的同义词\n",
    "        synonyms = set(lemma.name() for lemma in synset.lemmas())\n",
    "        print(f\"  Synonyms: {synonyms}\")"
   ]
  },
  {
   "cell_type": "code",
   "execution_count": 9,
   "metadata": {},
   "outputs": [],
   "source": [
    "import spacy\n",
    "\n",
    "# 加载预训练的英文模型\n",
    "nlp = spacy.load(\"en_core_web_sm\")"
   ]
  },
  {
   "cell_type": "code",
   "execution_count": 41,
   "metadata": {},
   "outputs": [],
   "source": [
    "import pandas as pd"
   ]
  },
  {
   "cell_type": "code",
   "execution_count": 270,
   "metadata": {},
   "outputs": [],
   "source": [
    "text_list= [\"Z-PROTEIN POLYMERS\",\"AGED-RATS\",\"MICE\",\"livers\",\"YOUNG BULLS\",\"YOUNG MICE\",\"ACTIVATE\",\"metastases\"] "
   ]
  },
  {
   "cell_type": "code",
   "execution_count": 271,
   "metadata": {},
   "outputs": [
    {
     "name": "stdout",
     "output_type": "stream",
     "text": [
      "Z-PROTEIN POLYMER\n",
      "AGED-RAT\n",
      "MOUSE\n",
      "LIVER\n",
      "YOUNG BULL\n",
      "YOUNG MOUSE\n",
      "ACTIVATE\n",
      "METASTASIS\n"
     ]
    }
   ],
   "source": [
    "# 输出词形还原的结果\n",
    "for t in text_list:\n",
    "    doc = nlp(t.lower())\n",
    "    a=\"\"\n",
    "    for token in doc:\n",
    "        if token.text.isalpha() and len(a)>0 and a[-1].isalpha():\n",
    "            a+=\" \"\n",
    "        if token.pos_ == \"NOUN\":\n",
    "            a+=token.lemma_.upper()\n",
    "        else:\n",
    "            a+=token.text.upper()\n",
    "    print(a)\n",
    "            \n",
    "   # print(token.text, \"-->\", token.lemma_.upper())\n"
   ]
  },
  {
   "cell_type": "code",
   "execution_count": 74,
   "metadata": {},
   "outputs": [],
   "source": [
    "biblio_gene_df=pd.read_excel(\"D:\\\\hqh_sci_cailiao\\\\20240219_new\\\\biblio_df_add_gene.xlsx\")"
   ]
  },
  {
   "cell_type": "code",
   "execution_count": 94,
   "metadata": {},
   "outputs": [],
   "source": [
    "i=0\n",
    "def fushu2danshu(tt):\n",
    "    global i\n",
    "    i+=1\n",
    "    if i%100==0:\n",
    "        print(i)\n",
    "    t=str(tt[\"DE\"])\n",
    "    if t is None or t==\"\":\n",
    "        return \"\"\n",
    "    doc = nlp(t.lower())\n",
    "    a=\"\"\n",
    "    for token in doc:\n",
    "        if token.text.isalpha() and len(a)>0 and a[-1].isalpha():\n",
    "            a+=\" \"\n",
    "        if token.pos_ == \"NOUN\":\n",
    "            a+=token.lemma_.upper()\n",
    "        else:\n",
    "            a+=token.text.upper()\n",
    "    return a"
   ]
  },
  {
   "cell_type": "code",
   "execution_count": 291,
   "metadata": {},
   "outputs": [],
   "source": [
    "def fushu2danshu2(t):\n",
    "    #print(t)\n",
    "    if t is None or str(t)==\"\" :\n",
    "        return \"\"\n",
    "    try:\n",
    "        doc = nlp(t.lower())\n",
    "    except Exception:\n",
    "        return \"\"\n",
    "    a=\"\"\n",
    "    for token in doc:\n",
    "        if token.text.isalpha() and len(a)>0 and a[-1].isalpha():\n",
    "            a+=\" \"\n",
    "        if token.pos_ == \"NOUN\":\n",
    "            a+=token.lemma_.upper()\n",
    "        else:\n",
    "            a+=token.text.upper()\n",
    "    return a"
   ]
  },
  {
   "cell_type": "code",
   "execution_count": 272,
   "metadata": {},
   "outputs": [],
   "source": [
    "id_count_df=pd.read_excel(\"D:\\\\hqh_sci_cailiao\\\\20240219_new\\\\id_count.xlsx\")"
   ]
  },
  {
   "cell_type": "code",
   "execution_count": 446,
   "metadata": {},
   "outputs": [],
   "source": [
    "def set_danshu_dict(t):\n",
    "    global count_df\n",
    "    danshu_t=fushu2danshu2(t)\n",
    "    if danshu_t==t:#本身为单数\n",
    "        if len(count_df[count_df[\"danshu\"]==t])==0:#从未统计\n",
    "            count_df=count_df._append({\"danshu\":t,\"count\":1},ignore_index=True)\n",
    "        else:#已经有了\n",
    "            #count_df=count_df[count_df[\"danshu\"]==t][\"count\"]+=1\n",
    "            count_df.loc[ count_df[\"danshu\"] == t, \"count\" ] = count_df.loc[count_df[\"danshu\"] == t, \"count\" ]+1\n",
    "    else:#为复数\n",
    "        if len(count_df[count_df[\"danshu\"]==danshu_t])==0:#从未统计\n",
    "            count_df=count_df._append({\"danshu\":danshu_t,\"fushu\":t,\"count\":1},ignore_index=True)\n",
    "        else:\n",
    "            count_df.loc[ count_df[\"danshu\"] == danshu_t, \"fushu\" ] = t\n",
    "            count_df.loc[ count_df[\"danshu\"] == danshu_t, \"count\" ] = count_df.loc[count_df[\"danshu\"] == danshu_t, \"count\" ]+1"
   ]
  },
  {
   "cell_type": "code",
   "execution_count": 448,
   "metadata": {},
   "outputs": [],
   "source": [
    "count_df=pd.DataFrame({\"danshu\":[],\"fushu\":[],\"count\":0})"
   ]
  },
  {
   "cell_type": "code",
   "execution_count": 450,
   "metadata": {},
   "outputs": [
    {
     "data": {
      "text/plain": [
       "0       None\n",
       "1       None\n",
       "2       None\n",
       "3       None\n",
       "4       None\n",
       "        ... \n",
       "8928    None\n",
       "8929    None\n",
       "8930    None\n",
       "8931    None\n",
       "8932    None\n",
       "Name: ID, Length: 8933, dtype: object"
      ]
     },
     "execution_count": 450,
     "metadata": {},
     "output_type": "execute_result"
    }
   ],
   "source": [
    "\n",
    "id_count_df[\"ID\"].apply(set_danshu_dict)"
   ]
  },
  {
   "cell_type": "code",
   "execution_count": 453,
   "metadata": {},
   "outputs": [],
   "source": [
    "count_df.to_excel(\"D:\\\\hqh_sci_cailiao\\\\20240219_new\\\\dan_fu_shu_count_ID.xlsx\")"
   ]
  },
  {
   "cell_type": "code",
   "execution_count": null,
   "metadata": {},
   "outputs": [],
   "source": [
    "id_count_df[\"ID\"].apply(set_danshu_dict)"
   ]
  },
  {
   "cell_type": "code",
   "execution_count": 122,
   "metadata": {},
   "outputs": [
    {
     "name": "stdout",
     "output_type": "stream",
     "text": [
      "'sex' 和 'gender' 是同义词。\n"
     ]
    }
   ],
   "source": [
    "import nltk\n",
    "from nltk.corpus import wordnet as wn\n",
    "\n",
    "# 确保已下载WordNet数据\n",
    "#nltk.download('wordnet')\n",
    "\n",
    "# 定义两个单词\n",
    "word1 = 'sex'\n",
    "word2 = 'gender'\n",
    "\n",
    "# 查找每个单词的同义词集\n",
    "synsets1 = wn.synsets(word1)\n",
    "synsets2 = wn.synsets(word2)\n",
    "\n",
    "# 遍历两个单词的同义词集，查看是否有交集\n",
    "are_synonyms = False\n",
    "for synset1 in synsets1:\n",
    "    for synset2 in synsets2:\n",
    "        if synset1 == synset2:\n",
    "            are_synonyms = True\n",
    "            break\n",
    "\n",
    "if are_synonyms:\n",
    "    print(f\"'{word1}' 和 '{word2}' 是同义词。\")\n",
    "else:\n",
    "    print(f\"'{word1}' 和 '{word2}' 不是同义词。\")"
   ]
  },
  {
   "cell_type": "code",
   "execution_count": 97,
   "metadata": {},
   "outputs": [],
   "source": [
    "biblio_gene_df.to_excel(\"D:\\\\hqh_sci_cailiao\\\\20240219_new\\\\biblio_df_add_gene_danshu.xlsx\")"
   ]
  },
  {
   "cell_type": "code",
   "execution_count": 156,
   "metadata": {},
   "outputs": [],
   "source": [
    "#开始处理近义词\n",
    "import regex as re\n",
    "pattern = re.compile(r'[a-zA-Z0-9]')"
   ]
  },
  {
   "cell_type": "code",
   "execution_count": 172,
   "metadata": {},
   "outputs": [],
   "source": [
    "def extract_letters_and_digits_separately(s):\n",
    "    if s is None or s==\"\":\n",
    "        return \"\"\n",
    "    letters = ''.join(pattern.findall(s))\n",
    "    return letters"
   ]
  },
  {
   "cell_type": "code",
   "execution_count": 241,
   "metadata": {},
   "outputs": [],
   "source": [
    "def set_zimu_dict(t):\n",
    "    zimu_t=extract_letters_and_digits_separately(t)\n",
    "    global zimu_dict\n",
    "    global zimu_as_set2\n",
    "    if zimu_t not in zimu_as_dict2:\n",
    "        zimu_as_dict2[zimu_t]=t\n",
    "    else:\n",
    "        zimu_dict[t]=zimu_as_dict2[zimu_t]"
   ]
  },
  {
   "cell_type": "code",
   "execution_count": 251,
   "metadata": {},
   "outputs": [],
   "source": [
    "id_danshu=pd.read_excel(\"d://hqh_sci_cailiao/20240219_new/ID_danshu_count.xlsx\")"
   ]
  },
  {
   "cell_type": "code",
   "execution_count": 252,
   "metadata": {},
   "outputs": [
    {
     "data": {
      "text/plain": [
       "0       None\n",
       "1       None\n",
       "2       None\n",
       "3       None\n",
       "4       None\n",
       "        ... \n",
       "8633    None\n",
       "8634    None\n",
       "8635    None\n",
       "8636    None\n",
       "8637    None\n",
       "Name: ID_danshu, Length: 8638, dtype: object"
      ]
     },
     "execution_count": 252,
     "metadata": {},
     "output_type": "execute_result"
    }
   ],
   "source": [
    "zimu_dict={}#存储重复出现的关键词\n",
    "zimu_as_dict2={}#\n",
    "id_danshu[\"ID_danshu\"].apply(set_zimu_dict)"
   ]
  },
  {
   "cell_type": "code",
   "execution_count": 246,
   "metadata": {},
   "outputs": [],
   "source": [
    "df = pd.DataFrame(list(zimu_dict.items()), columns=['term1', 'term2'])"
   ]
  },
  {
   "cell_type": "code",
   "execution_count": 253,
   "metadata": {},
   "outputs": [],
   "source": [
    "df.to_excel(\"d://hqh_sci_cailiao/20240219_new/zifu2.xlsx\")"
   ]
  },
  {
   "cell_type": "code",
   "execution_count": 254,
   "metadata": {},
   "outputs": [],
   "source": [
    "df_grouped = df.groupby('term2')['term1'].agg(lambda x: ';'.join(x))"
   ]
  },
  {
   "cell_type": "code",
   "execution_count": 460,
   "metadata": {},
   "outputs": [],
   "source": [
    "df_grouped.to_excel(\"d://hqh_sci_cailiao/20240219_new/zifu_分号分隔.xlsx\")"
   ]
  },
  {
   "cell_type": "code",
   "execution_count": 461,
   "metadata": {},
   "outputs": [],
   "source": [
    "words_dict={}\n",
    "with open('D:\\\\hqh_sci_cailiao\\\\20240219_new\\\\keyword plus关键词的合并.csv', 'r') as file:\n",
    "    # 按行读取文件\n",
    "    for line in file:\n",
    "        # 处理每一行内容\n",
    "        line=line.strip()  # strip() 方法用于去除行尾的换行符\n",
    "        words=line.split(\",\")\n",
    "        for i in range(1,len(words)):\n",
    "            words_dict[words[i]]=words[0]"
   ]
  },
  {
   "cell_type": "code",
   "execution_count": 462,
   "metadata": {},
   "outputs": [],
   "source": [
    "word_df = pd.DataFrame(list(words_dict.items()), columns=['term1', 'term2'])"
   ]
  },
  {
   "cell_type": "code",
   "execution_count": 463,
   "metadata": {},
   "outputs": [],
   "source": [
    "word_df.to_excel(\"D:\\\\hqh_sci_cailiao\\\\20240219_new\\\\keyword plus关键词的合并.xlsx\")"
   ]
  },
  {
   "cell_type": "code",
   "execution_count": null,
   "metadata": {},
   "outputs": [],
   "source": []
  }
 ],
 "metadata": {
  "kernelspec": {
   "display_name": "Python 3 (ipykernel)",
   "language": "python",
   "name": "python3"
  },
  "language_info": {
   "codemirror_mode": {
    "name": "ipython",
    "version": 3
   },
   "file_extension": ".py",
   "mimetype": "text/x-python",
   "name": "python",
   "nbconvert_exporter": "python",
   "pygments_lexer": "ipython3",
   "version": "3.11.7"
  }
 },
 "nbformat": 4,
 "nbformat_minor": 4
}
